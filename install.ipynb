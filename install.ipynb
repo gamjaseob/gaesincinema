{
 "cells": [
  {
   "cell_type": "code",
   "execution_count": 1,
   "metadata": {},
   "outputs": [
    {
     "name": "stdout",
     "output_type": "stream",
     "text": [
      "Collecting flask-login\n",
      "  Obtaining dependency information for flask-login from https://files.pythonhosted.org/packages/59/f5/67e9cc5c2036f58115f9fe0f00d203cf6780c3ff8ae0e705e7a9d9e8ff9e/Flask_Login-0.6.3-py3-none-any.whl.metadata\n",
      "  Downloading Flask_Login-0.6.3-py3-none-any.whl.metadata (5.8 kB)\n",
      "Requirement already satisfied: Flask>=1.0.4 in c:\\users\\jiseob\\appdata\\local\\programs\\python\\python312\\lib\\site-packages (from flask-login) (3.0.3)\n",
      "Requirement already satisfied: Werkzeug>=1.0.1 in c:\\users\\jiseob\\appdata\\local\\programs\\python\\python312\\lib\\site-packages (from flask-login) (3.0.3)\n",
      "Requirement already satisfied: Jinja2>=3.1.2 in c:\\users\\jiseob\\appdata\\local\\programs\\python\\python312\\lib\\site-packages (from Flask>=1.0.4->flask-login) (3.1.4)\n",
      "Requirement already satisfied: itsdangerous>=2.1.2 in c:\\users\\jiseob\\appdata\\local\\programs\\python\\python312\\lib\\site-packages (from Flask>=1.0.4->flask-login) (2.2.0)\n",
      "Requirement already satisfied: click>=8.1.3 in c:\\users\\jiseob\\appdata\\local\\programs\\python\\python312\\lib\\site-packages (from Flask>=1.0.4->flask-login) (8.1.7)\n",
      "Requirement already satisfied: blinker>=1.6.2 in c:\\users\\jiseob\\appdata\\local\\programs\\python\\python312\\lib\\site-packages (from Flask>=1.0.4->flask-login) (1.8.2)\n",
      "Requirement already satisfied: MarkupSafe>=2.1.1 in c:\\users\\jiseob\\appdata\\local\\programs\\python\\python312\\lib\\site-packages (from Werkzeug>=1.0.1->flask-login) (2.1.5)\n",
      "Requirement already satisfied: colorama in c:\\users\\jiseob\\appdata\\roaming\\python\\python312\\site-packages (from click>=8.1.3->Flask>=1.0.4->flask-login) (0.4.6)\n",
      "Downloading Flask_Login-0.6.3-py3-none-any.whl (17 kB)\n",
      "Installing collected packages: flask-login\n",
      "Successfully installed flask-login-0.6.3\n"
     ]
    },
    {
     "name": "stderr",
     "output_type": "stream",
     "text": [
      "\n",
      "[notice] A new release of pip is available: 23.2.1 -> 24.0\n",
      "[notice] To update, run: python.exe -m pip install --upgrade pip\n"
     ]
    }
   ],
   "source": [
    "#!pip install flask\\\n",
    "#!pip install Flask-SQLAlchemy\n",
    "!pip install flask-login\n"
   ]
  }
 ],
 "metadata": {
  "kernelspec": {
   "display_name": "Python 3",
   "language": "python",
   "name": "python3"
  },
  "language_info": {
   "codemirror_mode": {
    "name": "ipython",
    "version": 3
   },
   "file_extension": ".py",
   "mimetype": "text/x-python",
   "name": "python",
   "nbconvert_exporter": "python",
   "pygments_lexer": "ipython3",
   "version": "3.12.1"
  }
 },
 "nbformat": 4,
 "nbformat_minor": 2
}
