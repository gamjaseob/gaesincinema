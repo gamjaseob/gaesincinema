{
 "cells": [
  {
   "cell_type": "code",
   "execution_count": 2,
   "metadata": {},
   "outputs": [
    {
     "name": "stdout",
     "output_type": "stream",
     "text": [
      "Collecting Flask-SQLAlchemy\n",
      "  Obtaining dependency information for Flask-SQLAlchemy from https://files.pythonhosted.org/packages/1d/6a/89963a5c6ecf166e8be29e0d1bf6806051ee8fe6c82e232842e3aeac9204/flask_sqlalchemy-3.1.1-py3-none-any.whl.metadata\n",
      "  Downloading flask_sqlalchemy-3.1.1-py3-none-any.whl.metadata (3.4 kB)\n",
      "Requirement already satisfied: flask>=2.2.5 in c:\\users\\jiseob\\appdata\\local\\programs\\python\\python312\\lib\\site-packages (from Flask-SQLAlchemy) (3.0.3)\n",
      "Collecting sqlalchemy>=2.0.16 (from Flask-SQLAlchemy)\n",
      "  Obtaining dependency information for sqlalchemy>=2.0.16 from https://files.pythonhosted.org/packages/dc/01/bff536f96ea323a7d80df128a7bc947e3c25a60383425bf491232112c30d/SQLAlchemy-2.0.30-cp312-cp312-win_amd64.whl.metadata\n",
      "  Downloading SQLAlchemy-2.0.30-cp312-cp312-win_amd64.whl.metadata (9.8 kB)\n",
      "Requirement already satisfied: Werkzeug>=3.0.0 in c:\\users\\jiseob\\appdata\\local\\programs\\python\\python312\\lib\\site-packages (from flask>=2.2.5->Flask-SQLAlchemy) (3.0.3)\n",
      "Requirement already satisfied: Jinja2>=3.1.2 in c:\\users\\jiseob\\appdata\\local\\programs\\python\\python312\\lib\\site-packages (from flask>=2.2.5->Flask-SQLAlchemy) (3.1.4)\n",
      "Requirement already satisfied: itsdangerous>=2.1.2 in c:\\users\\jiseob\\appdata\\local\\programs\\python\\python312\\lib\\site-packages (from flask>=2.2.5->Flask-SQLAlchemy) (2.2.0)\n",
      "Requirement already satisfied: click>=8.1.3 in c:\\users\\jiseob\\appdata\\local\\programs\\python\\python312\\lib\\site-packages (from flask>=2.2.5->Flask-SQLAlchemy) (8.1.7)\n",
      "Requirement already satisfied: blinker>=1.6.2 in c:\\users\\jiseob\\appdata\\local\\programs\\python\\python312\\lib\\site-packages (from flask>=2.2.5->Flask-SQLAlchemy) (1.8.2)\n",
      "Requirement already satisfied: typing-extensions>=4.6.0 in c:\\users\\jiseob\\appdata\\local\\programs\\python\\python312\\lib\\site-packages (from sqlalchemy>=2.0.16->Flask-SQLAlchemy) (4.12.0)\n",
      "Collecting greenlet!=0.4.17 (from sqlalchemy>=2.0.16->Flask-SQLAlchemy)\n",
      "  Obtaining dependency information for greenlet!=0.4.17 from https://files.pythonhosted.org/packages/53/80/3d94d5999b4179d91bcc93745d1b0815b073d61be79dd546b840d17adb18/greenlet-3.0.3-cp312-cp312-win_amd64.whl.metadata\n",
      "  Downloading greenlet-3.0.3-cp312-cp312-win_amd64.whl.metadata (3.9 kB)\n",
      "Requirement already satisfied: colorama in c:\\users\\jiseob\\appdata\\roaming\\python\\python312\\site-packages (from click>=8.1.3->flask>=2.2.5->Flask-SQLAlchemy) (0.4.6)\n",
      "Requirement already satisfied: MarkupSafe>=2.0 in c:\\users\\jiseob\\appdata\\local\\programs\\python\\python312\\lib\\site-packages (from Jinja2>=3.1.2->flask>=2.2.5->Flask-SQLAlchemy) (2.1.5)\n",
      "Downloading flask_sqlalchemy-3.1.1-py3-none-any.whl (25 kB)\n",
      "Downloading SQLAlchemy-2.0.30-cp312-cp312-win_amd64.whl (2.1 MB)\n",
      "   ---------------------------------------- 0.0/2.1 MB ? eta -:--:--\n",
      "   ----- ---------------------------------- 0.3/2.1 MB 8.6 MB/s eta 0:00:01\n",
      "   -------------------- ------------------- 1.0/2.1 MB 13.3 MB/s eta 0:00:01\n",
      "   ---------------------------------------  2.1/2.1 MB 18.9 MB/s eta 0:00:01\n",
      "   ---------------------------------------- 2.1/2.1 MB 16.5 MB/s eta 0:00:00\n",
      "Downloading greenlet-3.0.3-cp312-cp312-win_amd64.whl (293 kB)\n",
      "   ---------------------------------------- 0.0/293.6 kB ? eta -:--:--\n",
      "   ---------------------------------------- 293.6/293.6 kB ? eta 0:00:00\n",
      "Installing collected packages: greenlet, sqlalchemy, Flask-SQLAlchemy\n",
      "Successfully installed Flask-SQLAlchemy-3.1.1 greenlet-3.0.3 sqlalchemy-2.0.30\n"
     ]
    },
    {
     "name": "stderr",
     "output_type": "stream",
     "text": [
      "\n",
      "[notice] A new release of pip is available: 23.2.1 -> 24.0\n",
      "[notice] To update, run: python.exe -m pip install --upgrade pip\n"
     ]
    }
   ],
   "source": [
    "#!pip install flask\\\n",
    "!pip install Flask-SQLAlchemy"
   ]
  }
 ],
 "metadata": {
  "kernelspec": {
   "display_name": "Python 3",
   "language": "python",
   "name": "python3"
  },
  "language_info": {
   "codemirror_mode": {
    "name": "ipython",
    "version": 3
   },
   "file_extension": ".py",
   "mimetype": "text/x-python",
   "name": "python",
   "nbconvert_exporter": "python",
   "pygments_lexer": "ipython3",
   "version": "3.12.1"
  }
 },
 "nbformat": 4,
 "nbformat_minor": 2
}
