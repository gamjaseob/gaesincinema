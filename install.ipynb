{
 "cells": [
  {
   "cell_type": "code",
   "execution_count": 1,
   "metadata": {},
   "outputs": [
    {
     "name": "stdout",
     "output_type": "stream",
     "text": [
      "Requirement already satisfied: flask in c:\\users\\jiseob\\appdata\\local\\programs\\python\\python312\\lib\\site-packages (3.0.3)\n",
      "Requirement already satisfied: Werkzeug>=3.0.0 in c:\\users\\jiseob\\appdata\\local\\programs\\python\\python312\\lib\\site-packages (from flask) (3.0.3)\n",
      "Requirement already satisfied: Jinja2>=3.1.2 in c:\\users\\jiseob\\appdata\\local\\programs\\python\\python312\\lib\\site-packages (from flask) (3.1.4)\n",
      "Requirement already satisfied: itsdangerous>=2.1.2 in c:\\users\\jiseob\\appdata\\local\\programs\\python\\python312\\lib\\site-packages (from flask) (2.2.0)\n",
      "Requirement already satisfied: click>=8.1.3 in c:\\users\\jiseob\\appdata\\local\\programs\\python\\python312\\lib\\site-packages (from flask) (8.1.7)\n",
      "Requirement already satisfied: blinker>=1.6.2 in c:\\users\\jiseob\\appdata\\local\\programs\\python\\python312\\lib\\site-packages (from flask) (1.8.2)\n",
      "Requirement already satisfied: colorama in c:\\users\\jiseob\\appdata\\roaming\\python\\python312\\site-packages (from click>=8.1.3->flask) (0.4.6)\n",
      "Requirement already satisfied: MarkupSafe>=2.0 in c:\\users\\jiseob\\appdata\\local\\programs\\python\\python312\\lib\\site-packages (from Jinja2>=3.1.2->flask) (2.1.5)\n",
      "Collecting Flask-SQLAlchemy\n",
      "  Downloading flask_sqlalchemy-3.1.1-py3-none-any.whl.metadata (3.4 kB)\n",
      "Requirement already satisfied: flask>=2.2.5 in c:\\users\\jiseob\\appdata\\local\\programs\\python\\python312\\lib\\site-packages (from Flask-SQLAlchemy) (3.0.3)\n",
      "Collecting sqlalchemy>=2.0.16 (from Flask-SQLAlchemy)\n",
      "  Downloading SQLAlchemy-2.0.30-cp312-cp312-win_amd64.whl.metadata (9.8 kB)\n",
      "Requirement already satisfied: Werkzeug>=3.0.0 in c:\\users\\jiseob\\appdata\\local\\programs\\python\\python312\\lib\\site-packages (from flask>=2.2.5->Flask-SQLAlchemy) (3.0.3)\n",
      "Requirement already satisfied: Jinja2>=3.1.2 in c:\\users\\jiseob\\appdata\\local\\programs\\python\\python312\\lib\\site-packages (from flask>=2.2.5->Flask-SQLAlchemy) (3.1.4)\n",
      "Requirement already satisfied: itsdangerous>=2.1.2 in c:\\users\\jiseob\\appdata\\local\\programs\\python\\python312\\lib\\site-packages (from flask>=2.2.5->Flask-SQLAlchemy) (2.2.0)\n",
      "Requirement already satisfied: click>=8.1.3 in c:\\users\\jiseob\\appdata\\local\\programs\\python\\python312\\lib\\site-packages (from flask>=2.2.5->Flask-SQLAlchemy) (8.1.7)\n",
      "Requirement already satisfied: blinker>=1.6.2 in c:\\users\\jiseob\\appdata\\local\\programs\\python\\python312\\lib\\site-packages (from flask>=2.2.5->Flask-SQLAlchemy) (1.8.2)\n",
      "Requirement already satisfied: typing-extensions>=4.6.0 in c:\\users\\jiseob\\appdata\\local\\programs\\python\\python312\\lib\\site-packages (from sqlalchemy>=2.0.16->Flask-SQLAlchemy) (4.12.0)\n",
      "Collecting greenlet!=0.4.17 (from sqlalchemy>=2.0.16->Flask-SQLAlchemy)\n",
      "  Downloading greenlet-3.0.3-cp312-cp312-win_amd64.whl.metadata (3.9 kB)\n",
      "Requirement already satisfied: colorama in c:\\users\\jiseob\\appdata\\roaming\\python\\python312\\site-packages (from click>=8.1.3->flask>=2.2.5->Flask-SQLAlchemy) (0.4.6)\n",
      "Requirement already satisfied: MarkupSafe>=2.0 in c:\\users\\jiseob\\appdata\\local\\programs\\python\\python312\\lib\\site-packages (from Jinja2>=3.1.2->flask>=2.2.5->Flask-SQLAlchemy) (2.1.5)\n",
      "Downloading flask_sqlalchemy-3.1.1-py3-none-any.whl (25 kB)\n",
      "Downloading SQLAlchemy-2.0.30-cp312-cp312-win_amd64.whl (2.1 MB)\n",
      "   ---------------------------------------- 0.0/2.1 MB ? eta -:--:--\n",
      "   ----- ---------------------------------- 0.3/2.1 MB 9.0 MB/s eta 0:00:01\n",
      "   ------------- -------------------------- 0.7/2.1 MB 8.9 MB/s eta 0:00:01\n",
      "   ----------------------- ---------------- 1.2/2.1 MB 10.8 MB/s eta 0:00:01\n",
      "   ---------------------------------- ----- 1.8/2.1 MB 10.4 MB/s eta 0:00:01\n",
      "   ---------------------------------------  2.1/2.1 MB 10.9 MB/s eta 0:00:01\n",
      "   ---------------------------------------  2.1/2.1 MB 10.9 MB/s eta 0:00:01\n",
      "   ---------------------------------------- 2.1/2.1 MB 7.3 MB/s eta 0:00:00\n",
      "Downloading greenlet-3.0.3-cp312-cp312-win_amd64.whl (293 kB)\n",
      "   ---------------------------------------- 0.0/293.6 kB ? eta -:--:--\n",
      "   --------------------------------------  286.7/293.6 kB 17.3 MB/s eta 0:00:01\n",
      "   --------------------------------------  286.7/293.6 kB 17.3 MB/s eta 0:00:01\n",
      "   ---------------------------------------- 293.6/293.6 kB 3.0 MB/s eta 0:00:00\n",
      "Installing collected packages: greenlet, sqlalchemy, Flask-SQLAlchemy\n",
      "Successfully installed Flask-SQLAlchemy-3.1.1 greenlet-3.0.3 sqlalchemy-2.0.30\n",
      "Collecting flask-login\n",
      "  Downloading Flask_Login-0.6.3-py3-none-any.whl.metadata (5.8 kB)\n",
      "Requirement already satisfied: Flask>=1.0.4 in c:\\users\\jiseob\\appdata\\local\\programs\\python\\python312\\lib\\site-packages (from flask-login) (3.0.3)\n",
      "Requirement already satisfied: Werkzeug>=1.0.1 in c:\\users\\jiseob\\appdata\\local\\programs\\python\\python312\\lib\\site-packages (from flask-login) (3.0.3)\n",
      "Requirement already satisfied: Jinja2>=3.1.2 in c:\\users\\jiseob\\appdata\\local\\programs\\python\\python312\\lib\\site-packages (from Flask>=1.0.4->flask-login) (3.1.4)\n",
      "Requirement already satisfied: itsdangerous>=2.1.2 in c:\\users\\jiseob\\appdata\\local\\programs\\python\\python312\\lib\\site-packages (from Flask>=1.0.4->flask-login) (2.2.0)\n",
      "Requirement already satisfied: click>=8.1.3 in c:\\users\\jiseob\\appdata\\local\\programs\\python\\python312\\lib\\site-packages (from Flask>=1.0.4->flask-login) (8.1.7)\n",
      "Requirement already satisfied: blinker>=1.6.2 in c:\\users\\jiseob\\appdata\\local\\programs\\python\\python312\\lib\\site-packages (from Flask>=1.0.4->flask-login) (1.8.2)\n",
      "Requirement already satisfied: MarkupSafe>=2.1.1 in c:\\users\\jiseob\\appdata\\local\\programs\\python\\python312\\lib\\site-packages (from Werkzeug>=1.0.1->flask-login) (2.1.5)\n",
      "Requirement already satisfied: colorama in c:\\users\\jiseob\\appdata\\roaming\\python\\python312\\site-packages (from click>=8.1.3->Flask>=1.0.4->flask-login) (0.4.6)\n",
      "Downloading Flask_Login-0.6.3-py3-none-any.whl (17 kB)\n",
      "Installing collected packages: flask-login\n",
      "Successfully installed flask-login-0.6.3\n"
     ]
    }
   ],
   "source": [
    "!pip install flask\n",
    "!pip install Flask-SQLAlchemy\n",
    "!pip install flask-login"
   ]
  }
 ],
 "metadata": {
  "kernelspec": {
   "display_name": "Python 3",
   "language": "python",
   "name": "python3"
  },
  "language_info": {
   "codemirror_mode": {
    "name": "ipython",
    "version": 3
   },
   "file_extension": ".py",
   "mimetype": "text/x-python",
   "name": "python",
   "nbconvert_exporter": "python",
   "pygments_lexer": "ipython3",
   "version": "3.12.3"
  }
 },
 "nbformat": 4,
 "nbformat_minor": 2
}
